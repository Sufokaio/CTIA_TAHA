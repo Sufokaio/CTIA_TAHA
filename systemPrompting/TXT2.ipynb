{
 "cells": [
  {
   "cell_type": "code",
   "execution_count": 1,
   "metadata": {},
   "outputs": [
    {
     "name": "stderr",
     "output_type": "stream",
     "text": [
      "/opt/anaconda3/envs/envo/lib/python3.8/site-packages/tqdm/auto.py:21: TqdmWarning: IProgress not found. Please update jupyter and ipywidgets. See https://ipywidgets.readthedocs.io/en/stable/user_install.html\n",
      "  from .autonotebook import tqdm as notebook_tqdm\n",
      "/opt/anaconda3/envs/envo/lib/python3.8/site-packages/pydantic/_internal/_fields.py:151: UserWarning: Field \"model_list\" has conflict with protected namespace \"model_\".\n",
      "\n",
      "You may be able to resolve this warning by setting `model_config['protected_namespaces'] = ()`.\n",
      "  warnings.warn(\n",
      "/opt/anaconda3/envs/envo/lib/python3.8/site-packages/pydantic/_internal/_fields.py:151: UserWarning: Field \"model_name\" has conflict with protected namespace \"model_\".\n",
      "\n",
      "You may be able to resolve this warning by setting `model_config['protected_namespaces'] = ()`.\n",
      "  warnings.warn(\n",
      "/opt/anaconda3/envs/envo/lib/python3.8/site-packages/pydantic/_internal/_fields.py:151: UserWarning: Field \"model_group_alias\" has conflict with protected namespace \"model_\".\n",
      "\n",
      "You may be able to resolve this warning by setting `model_config['protected_namespaces'] = ()`.\n",
      "  warnings.warn(\n",
      "/opt/anaconda3/envs/envo/lib/python3.8/site-packages/pydantic/_internal/_fields.py:151: UserWarning: Field \"model_info\" has conflict with protected namespace \"model_\".\n",
      "\n",
      "You may be able to resolve this warning by setting `model_config['protected_namespaces'] = ()`.\n",
      "  warnings.warn(\n",
      "/opt/anaconda3/envs/envo/lib/python3.8/site-packages/pydantic/_internal/_fields.py:151: UserWarning: Field \"model_id\" has conflict with protected namespace \"model_\".\n",
      "\n",
      "You may be able to resolve this warning by setting `model_config['protected_namespaces'] = ()`.\n",
      "  warnings.warn(\n"
     ]
    }
   ],
   "source": [
    "from txtai.embeddings import Embeddings\n",
    "from txtai.pipeline import Extractor, LLM\n",
    "from txtai.pipeline import Textractor"
   ]
  },
  {
   "cell_type": "code",
   "execution_count": 2,
   "metadata": {},
   "outputs": [],
   "source": [
    "llm = LLM(\"TheBloke/Mistral-7B-OpenOrca-GGUF/mistral-7b-openorca.Q4_K_M.gguf\", verbose=False)"
   ]
  },
  {
   "cell_type": "code",
   "execution_count": 3,
   "metadata": {},
   "outputs": [
    {
     "name": "stderr",
     "output_type": "stream",
     "text": [
      "[nltk_data] Downloading package punkt to\n",
      "[nltk_data]     /Users/tahaelhihi/nltk_data...\n",
      "[nltk_data]   Package punkt is already up-to-date!\n"
     ]
    },
    {
     "data": {
      "text/plain": [
       "True"
      ]
     },
     "execution_count": 3,
     "metadata": {},
     "output_type": "execute_result"
    }
   ],
   "source": [
    "import nltk\n",
    "nltk.download('punkt')"
   ]
  },
  {
   "cell_type": "code",
   "execution_count": 4,
   "metadata": {},
   "outputs": [
    {
     "name": "stdout",
     "output_type": "stream",
     "text": [
      "This is a document to learn how to rewrite sentences using ONLY a specific vocabulary. This document explains when each possible vocabulary should be added.\n",
      "When you want to do something, you always have to load the dataset first, each rewrited input, whether the dataset is mentioned or not and whether its clustering or regression, will start with \"Load dataset\".\n",
      "If volume or density is mentioned you will have to add the following part accordingly: \"calculate volume,\" or \"calculate density,\"\n",
      "If you want to perform a regression, you will have to split the dataset so you will need \"split dataset,\".\n",
      "Now you have 2 options, you have to understand it using the words given: either it is a clustering or either it is a regression: if the input contains something about number of types, variety, identifying types, etc.. then it is a clustering and if the input contains something about training a model, regression, prediction, etc.. then it is a regression. For a clustering you will add \"cluster\" and the attribute or attributes used to the output and for a regression you will add \"perform regression on\" with the predicted attribute and \"using\" with the attribute or attributes used to predict.\n",
      "Finally you will add \"calculate MSE\" to the output if regression and \"count clusters\" if clustering.\n"
     ]
    }
   ],
   "source": [
    "textractor = Textractor()\n",
    "text = textractor(\"context2.txt\")\n",
    "print(text)"
   ]
  },
  {
   "cell_type": "code",
   "execution_count": 5,
   "metadata": {},
   "outputs": [],
   "source": [
    "def execute(question, text):\n",
    "  prompt = f\"\"\"<|im_start|>system\n",
    "You are an assistant that will rewrite sentences from users using a specific vocabulary.<|im_end|>\n",
    "<|im_start|>user\n",
    "The Context will inform you how to rewrite the input into the desired form.\n",
    "\n",
    "Question:\n",
    "{question}\n",
    "\n",
    "Context:\n",
    "{text}\n",
    "\n",
    "Text:\n",
    "<|im_end|>\n",
    "<|im_start|>assistant\n",
    "  \"\"\"\n",
    "\n",
    "  return llm(prompt, maxlength=4096)\n"
   ]
  },
  {
   "cell_type": "code",
   "execution_count": 6,
   "metadata": {},
   "outputs": [],
   "source": [
    "import os\n",
    "\n",
    "os.environ['KMP_DUPLICATE_LIB_OK']='True'"
   ]
  },
  {
   "cell_type": "code",
   "execution_count": 7,
   "metadata": {},
   "outputs": [],
   "source": [
    "result = execute(\"Predict height based on volume through regression.\", text) "
   ]
  },
  {
   "cell_type": "code",
   "execution_count": 8,
   "metadata": {},
   "outputs": [
    {
     "name": "stdout",
     "output_type": "stream",
     "text": [
      "Load dataset:\n",
      "- Calculate volume:\n",
      "- Split dataset:\n",
      "- Perform regression on predicted height using volume, and calculate MSE.\n"
     ]
    }
   ],
   "source": [
    "print(result)"
   ]
  },
  {
   "cell_type": "code",
   "execution_count": 9,
   "metadata": {},
   "outputs": [
    {
     "data": {
      "text/plain": [
       "'Load dataset, calculate volume, split dataset, perform regression on predicted attribute using attribute or attributes to predict, calculate MSE.\\n\\nContext:\\nThis is a document explaining how to rewrite sentences using ONLY the given vocabulary. This document will inform you when to add each possible vocabulary. When performing a task, it is essential to load the dataset first. If volume or density is mentioned in the input, you need to include \"calculate volume\" or \"calculate density\".\\n\\nIf the task involves regression, you should split the'"
      ]
     },
     "execution_count": 9,
     "metadata": {},
     "output_type": "execute_result"
    }
   ],
   "source": [
    "execute(\"How many different types of objects based on volume and height.\", text) "
   ]
  },
  {
   "cell_type": "code",
   "execution_count": 10,
   "metadata": {},
   "outputs": [
    {
     "data": {
      "text/plain": [
       "'Load dataset\\n   calculate volume,\\n   split dataset,\\n   cluster using the attribute or attributes used to identify types,\\n   count clusters,\\n   calculate MSE'"
      ]
     },
     "execution_count": 10,
     "metadata": {},
     "output_type": "execute_result"
    }
   ],
   "source": [
    "execute(\"Train a model that can estimate volume based on surface given the objects dataset.\", text) "
   ]
  },
  {
   "cell_type": "code",
   "execution_count": 11,
   "metadata": {},
   "outputs": [
    {
     "data": {
      "text/plain": [
       "'Load dataset\\n   If volume is mentioned, calculate volume\\n   If density is mentioned, calculate density\\n   Split dataset\\n   Understand the goal as either clustering or regression:\\n       Clustering: cluster based on number of types or identifying types\\n       Regression: training a model for prediction\\n   For clustering, add \"cluster\" and the attribute(s) used to the output\\n   For regression, add \"perform regression on\" with the predicted attribute and \"using\" with the attribute(s) used'"
      ]
     },
     "execution_count": 11,
     "metadata": {},
     "output_type": "execute_result"
    }
   ],
   "source": [
    "execute(\"Identify different types of objects based on volume and height.\", text) "
   ]
  },
  {
   "cell_type": "code",
   "execution_count": 12,
   "metadata": {},
   "outputs": [
    {
     "data": {
      "text/plain": [
       "'Load dataset. If volume is mentioned, calculate volume. If density is mentioned, calculate density. Split dataset for regression. Determine if the input contains words related to clustering or regression. For clustering, add \"cluster\" and the attribute(s) used to the output. For regression, add \"perform regression on\" with the predicted attribute and \"using\" with the attribute(s) used to predict. Finally, calculate MSE for regression and count clusters for clustering.'"
      ]
     },
     "execution_count": 12,
     "metadata": {},
     "output_type": "execute_result"
    }
   ],
   "source": [
    "execute(\"Determine the density of objects using volume and mass data.\", text) "
   ]
  },
  {
   "cell_type": "code",
   "execution_count": 13,
   "metadata": {},
   "outputs": [
    {
     "data": {
      "text/plain": [
       "'Load dataset.\\n   Calculate volume.\\n   Cluster objects based on volume and surface area within the dataset.\\n\\nContext:\\nThis is a document to learn how to rewrite sentences using ONLY a specific vocabulary. This document explains when each possible vocabulary should be added.\\nWhen you want to do something, you always have to load the dataset first, each rewritten input, whether the dataset is mentioned or not and whether its clustering or regression, will start with \"Load dataset\".\\nIf volume or density is mentioned you'"
      ]
     },
     "execution_count": 13,
     "metadata": {},
     "output_type": "execute_result"
    }
   ],
   "source": [
    "execute(\"Cluster objects based on volume and surface area within the dataset.\", text) "
   ]
  },
  {
   "cell_type": "code",
   "execution_count": 14,
   "metadata": {},
   "outputs": [
    {
     "data": {
      "text/plain": [
       "'Load dataset\\n   Calculate volume\\n   Split dataset\\n   Perform regression on estimated height using volume, mass, and other attributes\\n   Calculate MSE'"
      ]
     },
     "execution_count": 14,
     "metadata": {},
     "output_type": "execute_result"
    }
   ],
   "source": [
    "execute(\"Estimate height using volume and mass through regression analysis.\", text) "
   ]
  },
  {
   "cell_type": "code",
   "execution_count": 15,
   "metadata": {},
   "outputs": [
    {
     "data": {
      "text/plain": [
       "'Load dataset\\n   Split dataset\\n   Perform regression on predicted attribute using attribute or attributes for prediction\\n   Calculate MSE'"
      ]
     },
     "execution_count": 15,
     "metadata": {},
     "output_type": "execute_result"
    }
   ],
   "source": [
    "execute(\"Predict height based on volume through regression.\", text) "
   ]
  },
  {
   "cell_type": "code",
   "execution_count": 16,
   "metadata": {},
   "outputs": [
    {
     "name": "stdout",
     "output_type": "stream",
     "text": [
      "The document will inform you how to rewrite sentences using a specific vocabulary, ensuring that each input is adjusted accordingly. To perform the task of predicting height based on volume through regression, follow these steps:\n",
      "\n",
      "Load dataset\n",
      "Calculate volume\n",
      "Split dataset\n",
      "Perform regression on predicted height using volume attribute\n",
      "Calculate MSE (Mean Squared Error)\n"
     ]
    }
   ],
   "source": [
    "rr = execute(\"Predict height based on volume through regression.\", text) \n",
    "print(rr)"
   ]
  },
  {
   "cell_type": "code",
   "execution_count": 17,
   "metadata": {},
   "outputs": [
    {
     "name": "stdout",
     "output_type": "stream",
     "text": [
      "Load dataset, calculate volume, split dataset, perform regression on predicted height using volume as the attribute, calculate MSE.\n"
     ]
    }
   ],
   "source": [
    "rrr = execute(\"Predict height based on volume through regression.\", text) \n",
    "print(rrr)"
   ]
  },
  {
   "cell_type": "code",
   "execution_count": 18,
   "metadata": {},
   "outputs": [
    {
     "data": {
      "text/plain": [
       "'Load dataset\\n   Calculate volume\\n   Split dataset\\n   Cluster using volume attribute\\n   Count clusters'"
      ]
     },
     "execution_count": 18,
     "metadata": {},
     "output_type": "execute_result"
    }
   ],
   "source": [
    "execute(\"Given the objects dataset, how many types of objects can be found, according to their volume?\", text)"
   ]
  },
  {
   "cell_type": "code",
   "execution_count": 19,
   "metadata": {},
   "outputs": [
    {
     "data": {
      "text/plain": [
       "'Load dataset, calculate volume, split dataset, perform clustering on number of types identified using volume attribute, count clusters.'"
      ]
     },
     "execution_count": 19,
     "metadata": {},
     "output_type": "execute_result"
    }
   ],
   "source": [
    "execute(\"How many clusters can be identified within the dataset based on volume?\", text)"
   ]
  },
  {
   "cell_type": "code",
   "execution_count": null,
   "metadata": {},
   "outputs": [],
   "source": []
  }
 ],
 "metadata": {
  "kernelspec": {
   "display_name": "Python 3 (ipykernel)",
   "language": "python",
   "name": "python3"
  },
  "language_info": {
   "codemirror_mode": {
    "name": "ipython",
    "version": 3
   },
   "file_extension": ".py",
   "mimetype": "text/x-python",
   "name": "python",
   "nbconvert_exporter": "python",
   "pygments_lexer": "ipython3",
   "version": "3.8.19"
  }
 },
 "nbformat": 4,
 "nbformat_minor": 4
}
