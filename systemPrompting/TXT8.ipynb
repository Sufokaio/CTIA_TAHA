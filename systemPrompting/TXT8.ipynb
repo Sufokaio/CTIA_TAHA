{
 "cells": [
  {
   "cell_type": "code",
   "execution_count": null,
   "metadata": {},
   "outputs": [],
   "source": [
    "pip install txtai"
   ]
  },
  {
   "cell_type": "code",
   "execution_count": null,
   "metadata": {},
   "outputs": [],
   "source": []
  },
  {
   "cell_type": "code",
   "execution_count": null,
   "metadata": {},
   "outputs": [],
   "source": [
    "pip install txtai\\[pipeline-data\\]"
   ]
  },
  {
   "cell_type": "code",
   "execution_count": null,
   "metadata": {},
   "outputs": [],
   "source": [
    "pip install txtai\\[pipeline-llm\\]"
   ]
  },
  {
   "cell_type": "code",
   "execution_count": null,
   "metadata": {},
   "outputs": [],
   "source": [
    "pip install txtai\\[pipeline-text\\]"
   ]
  },
  {
   "cell_type": "code",
   "execution_count": 2,
   "metadata": {},
   "outputs": [],
   "source": [
    "from txtai.embeddings import Embeddings\n",
    "from txtai.pipeline import Extractor, LLM\n",
    "from txtai.pipeline import Textractor"
   ]
  },
  {
   "cell_type": "code",
   "execution_count": 3,
   "metadata": {},
   "outputs": [],
   "source": [
    "llm = LLM(\"TheBloke/Mistral-7B-OpenOrca-GGUF/mistral-7b-openorca.Q4_K_M.gguf\", verbose=False)"
   ]
  },
  {
   "cell_type": "code",
   "execution_count": 4,
   "metadata": {},
   "outputs": [
    {
     "name": "stderr",
     "output_type": "stream",
     "text": [
      "[nltk_data] Downloading package punkt to\n",
      "[nltk_data]     /Users/tahaelhihi/nltk_data...\n",
      "[nltk_data]   Package punkt is already up-to-date!\n"
     ]
    },
    {
     "data": {
      "text/plain": [
       "True"
      ]
     },
     "execution_count": 4,
     "metadata": {},
     "output_type": "execute_result"
    }
   ],
   "source": [
    "import nltk\n",
    "nltk.download('punkt')"
   ]
  },
  {
   "cell_type": "code",
   "execution_count": null,
   "metadata": {},
   "outputs": [
    {
     "name": "stderr",
     "output_type": "stream",
     "text": [
      "2024-05-11 13:18:23,923 [MainThread  ] [INFO ]  Retrieving http://search.maven.org/remotecontent?filepath=org/apache/tika/tika-server-standard/2.6.0/tika-server-standard-2.6.0.jar.md5 to /var/folders/l8/3t_1vg_s3szb10t1rf49zq2w0000gn/T/tika-server.jar.md5.\n",
      "2024-05-11 13:18:24,947 [MainThread  ] [INFO ]  Retrieving http://search.maven.org/remotecontent?filepath=org/apache/tika/tika-server-standard/2.6.0/tika-server-standard-2.6.0.jar to /var/folders/l8/3t_1vg_s3szb10t1rf49zq2w0000gn/T/tika-server.jar.\n"
     ]
    }
   ],
   "source": [
    "textractor = Textractor()\n",
    "text = textractor(\"context7.txt\")\n",
    "print(text)"
   ]
  },
  {
   "cell_type": "code",
   "execution_count": 9,
   "metadata": {},
   "outputs": [],
   "source": [
    "def execute(question):\n",
    "  prompt = f\"\"\"<|im_start|>system\n",
    "You are an AI trained to assist users in rewriting sentences or instructions using predefined vocabularies based on the context of the input.\n",
    "\n",
    "# Context:\n",
    "- Use **clustering-vocabulary** for inputs related to clustering or identifying types (e.g., number of types, variety).\n",
    "- Use **regression-vocabulary** for inputs involving model training, regression, or prediction.\n",
    "\n",
    "# Vocabularies:\n",
    "- **Clustering-vocabulary:** load, dataset, calculate, volume, cluster, data, count, clusters, calculate, using, id, surface, height, mass, volume, density.\n",
    "- **Regression-vocabulary:** load, dataset, calculate, volume, regression, data, perform, calculate, using, split, MSE, id, surface, height, mass, volume, density.\n",
    "\n",
    "# Instructions:\n",
    "1. Always begin with \"Load dataset,\" whether the dataset is explicitly mentioned or not.\n",
    "2. Include \"calculate volume,\" or \"calculate density,\" if the input specifies volume or density.\n",
    "3. For clustering tasks, include \"cluster data by [attribute(s)]\" and \"count clusters.\"\n",
    "4. For regression tasks:\n",
    "   - Start with \"split dataset,\"\n",
    "   - Follow with \"perform regression on [dependent variable] using [independent variables],\"\n",
    "   - Conclude with \"calculate MSE.\"\n",
    "\n",
    "<|im_end|>\n",
    "<|im_start|>user\n",
    "# Task:\n",
    "Rewrite the provided user input using the appropriate vocabulary based on the context and content of the input.\n",
    "\n",
    "# Example Response:\n",
    "- Example if the input is related to regression: \"Load dataset, calculate volume, split dataset, perform regression on height using volume, calculate MSE.\"\n",
    "- Example if the input is related to clustering: \"Load dataset, calculate density, cluster data by density, count clusters.\"\n",
    "\n",
    "Input:\n",
    "{question}\n",
    "\n",
    "Text:\n",
    "<|im_end|>\n",
    "<|im_start|>assistant\n",
    "  \"\"\"\n",
    "\n",
    "  return llm(prompt, maxlength=4096)\n"
   ]
  },
  {
   "cell_type": "code",
   "execution_count": 10,
   "metadata": {},
   "outputs": [],
   "source": [
    "import os\n",
    "\n",
    "os.environ['KMP_DUPLICATE_LIB_OK']='True'"
   ]
  },
  {
   "cell_type": "code",
   "execution_count": 12,
   "metadata": {},
   "outputs": [],
   "source": [
    "result = execute(\"Predict height based on volume through regression.\") "
   ]
  },
  {
   "cell_type": "code",
   "execution_count": 13,
   "metadata": {},
   "outputs": [
    {
     "name": "stdout",
     "output_type": "stream",
     "text": [
      "1. Load dataset\n",
      "  2. Calculate volume\n",
      "  3. Split dataset\n",
      "  4. Perform regression on height using volume\n",
      "  5. Calculate M\n"
     ]
    }
   ],
   "source": [
    "print(result)"
   ]
  },
  {
   "cell_type": "code",
   "execution_count": 14,
   "metadata": {},
   "outputs": [
    {
     "data": {
      "text/plain": [
       "'1. Load dataset,\\n  2. Calculate volume,\\n  3. Cluster data by volume,\\n  4.'"
      ]
     },
     "execution_count": 14,
     "metadata": {},
     "output_type": "execute_result"
    }
   ],
   "source": [
    "execute(\"Given the objects dataset, how many types of objects can be found, according to their volume?\")"
   ]
  },
  {
   "cell_type": "code",
   "execution_count": 15,
   "metadata": {},
   "outputs": [
    {
     "data": {
      "text/plain": [
       "'Load dataset, calculate volume, split dataset, perform regression on height using volume, calculate MSE.'"
      ]
     },
     "execution_count": 15,
     "metadata": {},
     "output_type": "execute_result"
    }
   ],
   "source": [
    "execute(\"Predict height based on volume through regression.\") "
   ]
  },
  {
   "cell_type": "code",
   "execution_count": 16,
   "metadata": {},
   "outputs": [
    {
     "data": {
      "text/plain": [
       "'Load dataset, calculate volume, cluster data by volume, count clusters.'"
      ]
     },
     "execution_count": 16,
     "metadata": {},
     "output_type": "execute_result"
    }
   ],
   "source": [
    "execute(\"How many clusters can be identified within the dataset based on volume?\")"
   ]
  },
  {
   "cell_type": "code",
   "execution_count": 17,
   "metadata": {},
   "outputs": [
    {
     "data": {
      "text/plain": [
       "'Load dataset, calculate volume, cluster data by volume, and count clusters.'"
      ]
     },
     "execution_count": 17,
     "metadata": {},
     "output_type": "execute_result"
    }
   ],
   "source": [
    "execute(\"How many clusters can be identified within the dataset based on volume?\")"
   ]
  },
  {
   "cell_type": "code",
   "execution_count": null,
   "metadata": {},
   "outputs": [],
   "source": []
  },
  {
   "cell_type": "code",
   "execution_count": 18,
   "metadata": {},
   "outputs": [
    {
     "data": {
      "text/plain": [
       "'Load dataset, calculate volume, split dataset using id, perform regression on height using volume, calculate MSE, count clusters.'"
      ]
     },
     "execution_count": 18,
     "metadata": {},
     "output_type": "execute_result"
    }
   ],
   "source": [
    "execute(\"How many different types of objects based on volume and height.\") "
   ]
  },
  {
   "cell_type": "code",
   "execution_count": 19,
   "metadata": {},
   "outputs": [
    {
     "data": {
      "text/plain": [
       "'Load dataset, calculate density, split dataset, perform regression on surface using density, calculate MSE.'"
      ]
     },
     "execution_count": 19,
     "metadata": {},
     "output_type": "execute_result"
    }
   ],
   "source": [
    "execute(\"Train a model that can estimate volume based on surface given the objects dataset.\") "
   ]
  },
  {
   "cell_type": "code",
   "execution_count": 20,
   "metadata": {},
   "outputs": [
    {
     "data": {
      "text/plain": [
       "'Load dataset, calculate volume, cluster data by volume and height, and count clusters.'"
      ]
     },
     "execution_count": 20,
     "metadata": {},
     "output_type": "execute_result"
    }
   ],
   "source": [
    "execute(\"Identify different types of objects based on volume and height.\") "
   ]
  },
  {
   "cell_type": "code",
   "execution_count": 21,
   "metadata": {},
   "outputs": [
    {
     "data": {
      "text/plain": [
       "'1. Load dataset.\\n  2. Calculate density using volume and mass.'"
      ]
     },
     "execution_count": 21,
     "metadata": {},
     "output_type": "execute_result"
    }
   ],
   "source": [
    "execute(\"Determine the density of objects using volume and mass data.\") "
   ]
  },
  {
   "cell_type": "code",
   "execution_count": 22,
   "metadata": {},
   "outputs": [
    {
     "data": {
      "text/plain": [
       "'Load dataset, calculate density, cluster data by density and surface area, count clusters.'"
      ]
     },
     "execution_count": 22,
     "metadata": {},
     "output_type": "execute_result"
    }
   ],
   "source": [
    "execute(\"Cluster objects based on volume and surface area within the dataset.\") "
   ]
  },
  {
   "cell_type": "code",
   "execution_count": 23,
   "metadata": {},
   "outputs": [
    {
     "data": {
      "text/plain": [
       "'Load dataset, calculate volume, split dataset, perform regression on height using volume and mass, calculate MSE.'"
      ]
     },
     "execution_count": 23,
     "metadata": {},
     "output_type": "execute_result"
    }
   ],
   "source": [
    "execute(\"Estimate height using volume and mass through regression analysis.\") "
   ]
  },
  {
   "cell_type": "code",
   "execution_count": null,
   "metadata": {},
   "outputs": [],
   "source": []
  },
  {
   "cell_type": "code",
   "execution_count": null,
   "metadata": {},
   "outputs": [],
   "source": []
  },
  {
   "cell_type": "code",
   "execution_count": null,
   "metadata": {},
   "outputs": [],
   "source": []
  },
  {
   "cell_type": "code",
   "execution_count": null,
   "metadata": {},
   "outputs": [],
   "source": []
  },
  {
   "cell_type": "code",
   "execution_count": null,
   "metadata": {},
   "outputs": [],
   "source": []
  },
  {
   "cell_type": "code",
   "execution_count": null,
   "metadata": {},
   "outputs": [],
   "source": []
  }
 ],
 "metadata": {
  "kernelspec": {
   "display_name": "Python 3 (ipykernel)",
   "language": "python",
   "name": "python3"
  },
  "language_info": {
   "codemirror_mode": {
    "name": "ipython",
    "version": 3
   },
   "file_extension": ".py",
   "mimetype": "text/x-python",
   "name": "python",
   "nbconvert_exporter": "python",
   "pygments_lexer": "ipython3",
   "version": "3.8.19"
  }
 },
 "nbformat": 4,
 "nbformat_minor": 4
}
