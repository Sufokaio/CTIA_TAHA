{
 "cells": [
  {
   "cell_type": "code",
   "execution_count": 50,
   "metadata": {},
   "outputs": [],
   "source": [
    "from txtai.embeddings import Embeddings\n",
    "from txtai.pipeline import Extractor, LLM"
   ]
  },
  {
   "cell_type": "code",
   "execution_count": 51,
   "metadata": {},
   "outputs": [],
   "source": [
    "QA = [\n",
    "[\"Given the objects dataset, how many types of objects can be found, according to their volume?\",\n",
    "\"Load dataset, calculate volume, cluster, count cluster\"],\n",
    "[\"Train a model that can estimate density based on surface and mass given the objects dataset.\",\n",
    "\"Load dataset, calculate density, split dataset, perform regression density using surface and mass, calculate MSE\"],\n",
    "\n",
    "[\"Calculate the regression of mass using height in the objects dataset, and test the model.\",\n",
    "\"Load dataset, split dataset, perform regression mass using height, calculate MSE\"],\n",
    "\n",
    "[\"Train a model to estimate density using surface and mass data from the object dataset.\",\n",
    "\"Load dataset, calculate density, split dataset, perform regression density using surface and mass, calculate MSE\"],\n",
    "\n",
    "[\"Determine the variety of objects in the dataset based on their volume.\",\n",
    "\"Load dataset, calculate volume, cluster, count clusters\"],\n",
    "\n",
    "[\"Calculate the regression of mass using height within the dataset of objects.\",\n",
    "\"Load dataset, split dataset, perform regression mass using height, calculate MSE\"],\n",
    "\n",
    "[\"How many clusters can be identified within the dataset based on height?\",\n",
    "\"Load dataset, cluster using height, count clusters\"],\n",
    "\n",
    "[\"Calculate the density of objects using their volume and mass from the dataset.\",\n",
    "\"Load dataset, calculate density\"],\n",
    "\n",
    "[\"Identify different types of objects based on volume and surface area.\",\n",
    "\"Load dataset, calculate volume, cluster using volume and surface\"],\n",
    "\n",
    "[\"What is the volume for all objects within the dataset?\",\n",
    "\"Load dataset, calculate volume\"],\n",
    "\n",
    "[\"How many objects in the dataset have a specific ID?\",\n",
    "\"Load dataset, count using ID\"],\n",
    "\n",
    "[\"Predict volume based on height through regression analysis.\",\n",
    "\"Load dataset, calculate volume, split dataset, perform regression volume using height, calculate MSE\"],\n",
    "\n",
    "[\"Cluster objects based on height and mass within the dataset.\",\n",
    "\"Load dataset, cluster using height and mass\"],\n",
    "\n",
    "[\"Estimate volume using surface and height through regression.\",\n",
    "\"Load dataset, calculate volume, split dataset, perform regression density using surface and mass, calculate MSE\"],\n",
    "\n",
    "\n",
    "[\"How many clusters can be identified within the dataset based on volume?\",\n",
    "\"Load dataset, calculate volume, cluster, count clusters\"]\n",
    "]\n"
   ]
  },
  {
   "cell_type": "code",
   "execution_count": 52,
   "metadata": {},
   "outputs": [],
   "source": [
    "embeddings = Embeddings(content=True, autoid=\"uuid5\")"
   ]
  },
  {
   "cell_type": "code",
   "execution_count": null,
   "metadata": {},
   "outputs": [],
   "source": []
  },
  {
   "cell_type": "code",
   "execution_count": 53,
   "metadata": {},
   "outputs": [],
   "source": [
    "embeddings.index(QA)"
   ]
  },
  {
   "cell_type": "code",
   "execution_count": 54,
   "metadata": {},
   "outputs": [],
   "source": [
    "llm = LLM(\"TheBloke/Mistral-7B-OpenOrca-GGUF/mistral-7b-openorca.Q4_K_M.gguf\", verbose=False)"
   ]
  },
  {
   "cell_type": "code",
   "execution_count": 55,
   "metadata": {},
   "outputs": [],
   "source": [
    "template = \"\"\"<|im_start|>system\n",
    "You are an assistant that will rewrite sentences from users using a specific vocabulary.<|im_end|>\n",
    "<|im_start|>user\n",
    "Find the best matching text in the context for the input, try to find something similar in the \"original\" part of the context. \n",
    "The response should be the corresponding \"rewrited\" part from the context, you can slightly adapt if needed (attribute names).\n",
    "\n",
    "Question:\n",
    "{question}\n",
    "\n",
    "Context:\n",
    "{context}\n",
    "\n",
    "Text:\n",
    "<|im_end|>\n",
    "<|im_start|>assistant\n",
    "\"\"\""
   ]
  },
  {
   "cell_type": "code",
   "execution_count": 56,
   "metadata": {},
   "outputs": [],
   "source": [
    "extractor = Extractor(embeddings, llm, output=\"reference\", separator=\"\\n\", template=template)"
   ]
  },
  {
   "cell_type": "code",
   "execution_count": 57,
   "metadata": {},
   "outputs": [],
   "source": [
    "import os\n",
    "\n",
    "os.environ['KMP_DUPLICATE_LIB_OK']='True'"
   ]
  },
  {
   "cell_type": "code",
   "execution_count": 58,
   "metadata": {},
   "outputs": [],
   "source": [
    "result = extractor(\"Predict height based on volume through regression.\")"
   ]
  },
  {
   "cell_type": "code",
   "execution_count": 59,
   "metadata": {},
   "outputs": [
    {
     "name": "stdout",
     "output_type": "stream",
     "text": [
      "ANSWER: Predict volume based on height through regression analysis. Load dataset, calculate volume, split dataset, perform regression volume using height, calculate MSE\n",
      "REFERENCE: [{'id': '3de91233-a56b-5184-8163-fbef86296785', 'text': 'Predict volume based on height through regression analysis. Load dataset, calculate volume, split dataset, perform regression volume using height, calculate MSE'}]\n"
     ]
    }
   ],
   "source": [
    "print(\"ANSWER:\", result[\"answer\"])\n",
    "print(\"REFERENCE:\", embeddings.search(\"select id, text from txtai where id = :id\", parameters={\"id\": result[\"reference\"]}))\n"
   ]
  },
  {
   "cell_type": "code",
   "execution_count": 60,
   "metadata": {},
   "outputs": [],
   "source": [
    "result2 = extractor(\"How many different types of objects based on volume and height.\")"
   ]
  },
  {
   "cell_type": "code",
   "execution_count": 61,
   "metadata": {},
   "outputs": [
    {
     "name": "stdout",
     "output_type": "stream",
     "text": [
      "ANSWER: <|im_end|>\n",
      "Identify different types of objects based on volume and surface area. Load dataset, calculate volume, cluster using volume and surface area\n",
      "Given the objects dataset, how many types of objects can be found, according to their volume? Load dataset, calculate volume, cluster, count cluster\n",
      "Determine the variety of objects in the dataset based on their volume. Load dataset, calculate volume, cluster, count clusters\n",
      "REFERENCE: [{'id': '684fe487-98c6-52bf-bf21-1ff89a7c403c', 'text': 'Given the objects dataset, how many types of objects can be found, according to their volume? Load dataset, calculate volume, cluster, count cluster'}]\n"
     ]
    }
   ],
   "source": [
    "print(\"ANSWER:\", result2[\"answer\"])\n",
    "print(\"REFERENCE:\", embeddings.search(\"select id, text from txtai where id = :id\", parameters={\"id\": result2[\"reference\"]}))\n"
   ]
  },
  {
   "cell_type": "code",
   "execution_count": 62,
   "metadata": {},
   "outputs": [
    {
     "name": "stdout",
     "output_type": "stream",
     "text": [
      "ANSWER: Train a model that can estimate volume based on surface given the objects dataset.\n",
      "REFERENCE: [{'id': '87d65422-c215-549e-94a5-f2afb0115ff4', 'text': 'Train a model that can estimate density based on surface and mass given the objects dataset. Load dataset, calculate density, split dataset, perform regression density using surface and mass, calculate MSE'}]\n"
     ]
    }
   ],
   "source": [
    "result7 = extractor(\"Train a model that can estimate volume based on surface given the objects dataset.\")\n",
    "print(\"ANSWER:\", result7[\"answer\"])\n",
    "print(\"REFERENCE:\", embeddings.search(\"select id, text from txtai where id = :id\", parameters={\"id\": result7[\"reference\"]}))"
   ]
  },
  {
   "cell_type": "code",
   "execution_count": 63,
   "metadata": {},
   "outputs": [
    {
     "name": "stdout",
     "output_type": "stream",
     "text": [
      "ANSWER: Given the objects dataset, identify different types of objects based on volume and height. Load dataset, calculate volume, cluster using volume and height, determine variety of objects in dataset.\n",
      "REFERENCE: [{'id': 'c9fcc043-9fb6-576b-bf20-f7cc32de740c', 'text': 'Identify different types of objects based on volume and surface area. Load dataset, calculate volume, cluster using volume and surface'}]\n"
     ]
    }
   ],
   "source": [
    "result3 = extractor(\"Identify different types of objects based on volume and height.\")\n",
    "print(\"ANSWER:\", result3[\"answer\"])\n",
    "print(\"REFERENCE:\", embeddings.search(\"select id, text from txtai where id = :id\", parameters={\"id\": result3[\"reference\"]}))"
   ]
  },
  {
   "cell_type": "code",
   "execution_count": 64,
   "metadata": {},
   "outputs": [
    {
     "name": "stdout",
     "output_type": "stream",
     "text": [
      "ANSWER: Calculate the density of objects using their volume and mass from the dataset. Load dataset, calculate density\n",
      "REFERENCE: [{'id': '35e603b9-eae8-56d5-9f37-6df82bc62837', 'text': 'Calculate the density of objects using their volume and mass from the dataset. Load dataset, calculate density'}]\n"
     ]
    }
   ],
   "source": [
    "result4 = extractor(\"Determine the density of objects using volume and mass data.\")\n",
    "print(\"ANSWER:\", result4[\"answer\"])\n",
    "print(\"REFERENCE:\", embeddings.search(\"select id, text from txtai where id = :id\", parameters={\"id\": result4[\"reference\"]}))"
   ]
  },
  {
   "cell_type": "code",
   "execution_count": 65,
   "metadata": {},
   "outputs": [
    {
     "name": "stdout",
     "output_type": "stream",
     "text": [
      "ANSWER: Cluster objects based on volume and surface area within the dataset.\n",
      "REFERENCE: [{'id': 'c9fcc043-9fb6-576b-bf20-f7cc32de740c', 'text': 'Identify different types of objects based on volume and surface area. Load dataset, calculate volume, cluster using volume and surface'}]\n"
     ]
    }
   ],
   "source": [
    "result5 = extractor(\"Cluster objects based on volume and surface area within the dataset.\")\n",
    "print(\"ANSWER:\", result5[\"answer\"])\n",
    "print(\"REFERENCE:\", embeddings.search(\"select id, text from txtai where id = :id\", parameters={\"id\": result5[\"reference\"]}))"
   ]
  },
  {
   "cell_type": "code",
   "execution_count": 66,
   "metadata": {},
   "outputs": [
    {
     "name": "stdout",
     "output_type": "stream",
     "text": [
      "ANSWER: Estimate volume based on height through regression analysis. Load dataset, calculate volume, split dataset, perform regression volume using height, and calculate MSE\n",
      "REFERENCE: [{'id': '3de91233-a56b-5184-8163-fbef86296785', 'text': 'Predict volume based on height through regression analysis. Load dataset, calculate volume, split dataset, perform regression volume using height, calculate MSE'}]\n"
     ]
    }
   ],
   "source": [
    "result6 = extractor(\"Estimate height using volume and mass through regression analysis.\")\n",
    "print(\"ANSWER:\", result6[\"answer\"])\n",
    "print(\"REFERENCE:\", embeddings.search(\"select id, text from txtai where id = :id\", parameters={\"id\": result6[\"reference\"]}))"
   ]
  },
  {
   "cell_type": "code",
   "execution_count": null,
   "metadata": {},
   "outputs": [],
   "source": []
  },
  {
   "cell_type": "code",
   "execution_count": null,
   "metadata": {},
   "outputs": [],
   "source": []
  }
 ],
 "metadata": {
  "kernelspec": {
   "display_name": "Python 3 (ipykernel)",
   "language": "python",
   "name": "python3"
  },
  "language_info": {
   "codemirror_mode": {
    "name": "ipython",
    "version": 3
   },
   "file_extension": ".py",
   "mimetype": "text/x-python",
   "name": "python",
   "nbconvert_exporter": "python",
   "pygments_lexer": "ipython3",
   "version": "3.8.19"
  }
 },
 "nbformat": 4,
 "nbformat_minor": 4
}
