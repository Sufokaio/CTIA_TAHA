{
 "cells": [
  {
   "cell_type": "code",
   "execution_count": null,
   "metadata": {},
   "outputs": [],
   "source": [
    "pip install txtai"
   ]
  },
  {
   "cell_type": "code",
   "execution_count": null,
   "metadata": {},
   "outputs": [],
   "source": [
    "pip install txtai\\[pipeline-llm\\]"
   ]
  },
  {
   "cell_type": "code",
   "execution_count": 1,
   "metadata": {},
   "outputs": [
    {
     "name": "stderr",
     "output_type": "stream",
     "text": [
      "/opt/anaconda3/envs/envo/lib/python3.8/site-packages/tqdm/auto.py:21: TqdmWarning: IProgress not found. Please update jupyter and ipywidgets. See https://ipywidgets.readthedocs.io/en/stable/user_install.html\n",
      "  from .autonotebook import tqdm as notebook_tqdm\n",
      "/opt/anaconda3/envs/envo/lib/python3.8/site-packages/pydantic/_internal/_fields.py:151: UserWarning: Field \"model_list\" has conflict with protected namespace \"model_\".\n",
      "\n",
      "You may be able to resolve this warning by setting `model_config['protected_namespaces'] = ()`.\n",
      "  warnings.warn(\n",
      "/opt/anaconda3/envs/envo/lib/python3.8/site-packages/pydantic/_internal/_fields.py:151: UserWarning: Field \"model_name\" has conflict with protected namespace \"model_\".\n",
      "\n",
      "You may be able to resolve this warning by setting `model_config['protected_namespaces'] = ()`.\n",
      "  warnings.warn(\n",
      "/opt/anaconda3/envs/envo/lib/python3.8/site-packages/pydantic/_internal/_fields.py:151: UserWarning: Field \"model_group_alias\" has conflict with protected namespace \"model_\".\n",
      "\n",
      "You may be able to resolve this warning by setting `model_config['protected_namespaces'] = ()`.\n",
      "  warnings.warn(\n",
      "/opt/anaconda3/envs/envo/lib/python3.8/site-packages/pydantic/_internal/_fields.py:151: UserWarning: Field \"model_info\" has conflict with protected namespace \"model_\".\n",
      "\n",
      "You may be able to resolve this warning by setting `model_config['protected_namespaces'] = ()`.\n",
      "  warnings.warn(\n",
      "/opt/anaconda3/envs/envo/lib/python3.8/site-packages/pydantic/_internal/_fields.py:151: UserWarning: Field \"model_id\" has conflict with protected namespace \"model_\".\n",
      "\n",
      "You may be able to resolve this warning by setting `model_config['protected_namespaces'] = ()`.\n",
      "  warnings.warn(\n"
     ]
    }
   ],
   "source": [
    "from txtai.embeddings import Embeddings\n",
    "from txtai.pipeline import Extractor, LLM"
   ]
  },
  {
   "cell_type": "code",
   "execution_count": 2,
   "metadata": {},
   "outputs": [],
   "source": [
    "QA = [\n",
    "[\"original: Given the objects dataset, how many types of objects can be found, according to their volume?\",\n",
    "\"rewrited: Load dataset, calculate volume, cluster, count cluster\"],\n",
    "[\"original: Train a model that can estimate density based on surface and mass given the objects dataset.\",\n",
    "\"rewrited: Load dataset, calculate density, split dataset, perform regression density using surface and mass, calculate MSE\"],\n",
    "\n",
    "[\"original: Calculate the regression of mass using height in the objects dataset, and test the model.\",\n",
    "\"rewrited: Load dataset, split dataset, perform regression mass using height, calculate MSE\"],\n",
    "\n",
    "[\"original: Train a model to estimate density using surface and mass data from the object dataset.\",\n",
    "\"rewrited: Load dataset, calculate density, split dataset, perform regression density using surface and mass, calculate MSE\"],\n",
    "\n",
    "[\"original: Determine the variety of objects in the dataset based on their volume.\",\n",
    "\"rewrited: Load dataset, calculate volume, cluster, count clusters\"],\n",
    "\n",
    "[\"original: Calculate the regression of mass using height within the dataset of objects.\",\n",
    "\"rewrited: Load dataset, split dataset, perform regression mass using height, calculate MSE\"],\n",
    "\n",
    "[\"original: How many clusters can be identified within the dataset based on height?\",\n",
    "\"rewrited: Load dataset, cluster using height, count clusters\"],\n",
    "\n",
    "[\"original: Calculate the density of objects using their volume and mass from the dataset.\",\n",
    "\"rewrited: Load dataset, calculate density\"],\n",
    "\n",
    "[\"original: Identify different types of objects based on volume and surface area.\",\n",
    "\"rewrited: Load dataset, calculate volume, cluster using volume and surface\"],\n",
    "\n",
    "[\"original: What is the volume for all objects within the dataset?\",\n",
    "\"rewrited: Load dataset, calculate volume\"],\n",
    "\n",
    "[\"original: How many objects in the dataset have a specific ID?\",\n",
    "\"rewrited: Load dataset, count using ID\"],\n",
    "\n",
    "[\"original: Predict volume based on height through regression analysis.\",\n",
    "\"rewrited: Load dataset, calculate volume, split dataset, perform regression volume using height, calculate MSE\"],\n",
    "\n",
    "[\"original: Cluster objects based on height and mass within the dataset.\",\n",
    "\"rewrited: Load dataset, cluster using height and mass\"],\n",
    "\n",
    "[\"original: Estimate volume using surface and height through regression.\",\n",
    "\"rewrited: Load dataset, calculate volume, split dataset, perform regression density using surface and mass, calculate MSE\"],\n",
    "\n",
    "\n",
    "[\"original: How many clusters can be identified within the dataset based on volume?\",\n",
    "\"rewrited: Load dataset, calculate volume, cluster, count clusters\"]\n",
    "]\n"
   ]
  },
  {
   "cell_type": "code",
   "execution_count": 3,
   "metadata": {},
   "outputs": [],
   "source": [
    "embeddings = Embeddings(content=True, autoid=\"uuid5\")"
   ]
  },
  {
   "cell_type": "code",
   "execution_count": null,
   "metadata": {},
   "outputs": [],
   "source": []
  },
  {
   "cell_type": "code",
   "execution_count": 4,
   "metadata": {},
   "outputs": [],
   "source": [
    "embeddings.index(QA)"
   ]
  },
  {
   "cell_type": "code",
   "execution_count": 5,
   "metadata": {},
   "outputs": [],
   "source": [
    "llm = LLM(\"TheBloke/Mistral-7B-OpenOrca-GGUF/mistral-7b-openorca.Q4_K_M.gguf\", verbose=False)"
   ]
  },
  {
   "cell_type": "code",
   "execution_count": 6,
   "metadata": {},
   "outputs": [],
   "source": [
    "template = \"\"\"<|im_start|>system\n",
    "You are an assistant that will rewrite sentences from users using a specific vocabulary.<|im_end|>\n",
    "<|im_start|>user\n",
    "Find the best matching text in the context for the input, try to find something similar in the \"original\" part of the context. \n",
    "The response should only be taken from the corresponding \"rewrited\" part from the context, you can slightly adapt if needed (e.g., attribute names).\n",
    "\n",
    "Question:\n",
    "{question}\n",
    "\n",
    "Context:\n",
    "{context}\n",
    "\n",
    "Text:\n",
    "<|im_end|>\n",
    "<|im_start|>assistant\n",
    "\"\"\""
   ]
  },
  {
   "cell_type": "code",
   "execution_count": 7,
   "metadata": {},
   "outputs": [],
   "source": [
    "extractor = Extractor(embeddings, llm, output=\"reference\", separator=\"\\n\", template=template)"
   ]
  },
  {
   "cell_type": "code",
   "execution_count": 8,
   "metadata": {},
   "outputs": [],
   "source": [
    "import os\n",
    "\n",
    "os.environ['KMP_DUPLICATE_LIB_OK']='True'"
   ]
  },
  {
   "cell_type": "code",
   "execution_count": 9,
   "metadata": {},
   "outputs": [],
   "source": [
    "result = extractor(\"Predict height based on volume through regression.\")"
   ]
  },
  {
   "cell_type": "code",
   "execution_count": 10,
   "metadata": {},
   "outputs": [
    {
     "name": "stdout",
     "output_type": "stream",
     "text": [
      "ANSWER: The response should only be taken from the corresponding \"rewrited\" part from the context. In this case, you can slightly adapt the text to find something similar in the rewritten part of the context.\n",
      "\n",
      "Text: Predict height based on volume through regression by loading a dataset, calculating volume, splitting it into training and testing sets, performing regression using height as the independent variable, and then calculating the mean squared error (MSE).\n",
      "REFERENCE: [{'id': 'aecd8629-2764-503d-b842-11aba0efd57e', 'text': 'original: Predict volume based on height through regression analysis. rewrited: Load dataset, calculate volume, split dataset, perform regression volume using height, calculate MSE'}]\n"
     ]
    }
   ],
   "source": [
    "print(\"ANSWER:\", result[\"answer\"])\n",
    "print(\"REFERENCE:\", embeddings.search(\"select id, text from txtai where id = :id\", parameters={\"id\": result[\"reference\"]}))\n"
   ]
  },
  {
   "cell_type": "code",
   "execution_count": 11,
   "metadata": {},
   "outputs": [],
   "source": [
    "result2 = extractor(\"How many different types of objects based on volume and height.\")"
   ]
  },
  {
   "cell_type": "code",
   "execution_count": 12,
   "metadata": {},
   "outputs": [
    {
     "name": "stdout",
     "output_type": "stream",
     "text": [
      "ANSWER: How many different types of objects can be found, according to their volume? Load dataset, calculate volume, cluster, count cluster.\n",
      "REFERENCE: [{'id': 'ff07167c-2e01-5ca4-bab2-6633f70d6c6c', 'text': 'original: Given the objects dataset, how many types of objects can be found, according to their volume? rewrited: Load dataset, calculate volume, cluster, count cluster'}]\n"
     ]
    }
   ],
   "source": [
    "print(\"ANSWER:\", result2[\"answer\"])\n",
    "print(\"REFERENCE:\", embeddings.search(\"select id, text from txtai where id = :id\", parameters={\"id\": result2[\"reference\"]}))\n"
   ]
  },
  {
   "cell_type": "code",
   "execution_count": 13,
   "metadata": {},
   "outputs": [
    {
     "name": "stdout",
     "output_type": "stream",
     "text": [
      "ANSWER: Train a model that can estimate volume based on surface given the objects dataset.\n",
      "REFERENCE: [{'id': 'f94bc3c6-754d-5f51-a1ed-530c235cbceb', 'text': 'original: Train a model that can estimate density based on surface and mass given the objects dataset. rewrited: Load dataset, calculate density, split dataset, perform regression density using surface and mass, calculate MSE'}]\n"
     ]
    }
   ],
   "source": [
    "result7 = extractor(\"Train a model that can estimate volume based on surface given the objects dataset.\")\n",
    "print(\"ANSWER:\", result7[\"answer\"])\n",
    "print(\"REFERENCE:\", embeddings.search(\"select id, text from txtai where id = :id\", parameters={\"id\": result7[\"reference\"]}))"
   ]
  },
  {
   "cell_type": "code",
   "execution_count": 14,
   "metadata": {},
   "outputs": [
    {
     "name": "stdout",
     "output_type": "stream",
     "text": [
      "ANSWER: In the context, you want to identify different types of objects based on their volume and height. The best matching text would be from the \"rewrited\" part: Load dataset, calculate volume, and cluster using volume and surface area (since height is not explicitly mentioned).\n",
      "REFERENCE: [{'id': '0365f368-b6e9-5483-8f63-7add0d8fe7ad', 'text': 'original: Identify different types of objects based on volume and surface area. rewrited: Load dataset, calculate volume, cluster using volume and surface'}]\n"
     ]
    }
   ],
   "source": [
    "result3 = extractor(\"Identify different types of objects based on volume and height.\")\n",
    "print(\"ANSWER:\", result3[\"answer\"])\n",
    "print(\"REFERENCE:\", embeddings.search(\"select id, text from txtai where id = :id\", parameters={\"id\": result3[\"reference\"]}))"
   ]
  },
  {
   "cell_type": "code",
   "execution_count": 15,
   "metadata": {},
   "outputs": [
    {
     "name": "stdout",
     "output_type": "stream",
     "text": [
      "ANSWER: Determine the density of objects using volume and mass data.\n",
      "REFERENCE: [{'id': '4b3abf9f-9e1f-522b-8b4b-6052cf3cb209', 'text': 'original: Calculate the density of objects using their volume and mass from the dataset. rewrited: Load dataset, calculate density'}]\n"
     ]
    }
   ],
   "source": [
    "result4 = extractor(\"Determine the density of objects using volume and mass data.\")\n",
    "print(\"ANSWER:\", result4[\"answer\"])\n",
    "print(\"REFERENCE:\", embeddings.search(\"select id, text from txtai where id = :id\", parameters={\"id\": result4[\"reference\"]}))"
   ]
  },
  {
   "cell_type": "code",
   "execution_count": 16,
   "metadata": {},
   "outputs": [
    {
     "name": "stdout",
     "output_type": "stream",
     "text": [
      "ANSWER: Cluster objects based on volume and surface area within the dataset.\n",
      "REFERENCE: [{'id': '0365f368-b6e9-5483-8f63-7add0d8fe7ad', 'text': 'original: Identify different types of objects based on volume and surface area. rewrited: Load dataset, calculate volume, cluster using volume and surface'}]\n"
     ]
    }
   ],
   "source": [
    "result5 = extractor(\"Cluster objects based on volume and surface area within the dataset.\")\n",
    "print(\"ANSWER:\", result5[\"answer\"])\n",
    "print(\"REFERENCE:\", embeddings.search(\"select id, text from txtai where id = :id\", parameters={\"id\": result5[\"reference\"]}))"
   ]
  },
  {
   "cell_type": "code",
   "execution_count": 17,
   "metadata": {},
   "outputs": [
    {
     "name": "stdout",
     "output_type": "stream",
     "text": [
      "ANSWER: Find the best matching text in the context for the input: \"Estimate height using volume and mass through regression analysis.\"\n",
      "\n",
      "Response: Load dataset, split dataset, perform regression density using surface and mass, calculate MSE\n",
      "REFERENCE: [{'id': 'bf6e0a17-03fb-5b2d-ba08-1a6f71148aae', 'text': 'original: Estimate volume using surface and height through regression. rewrited: Load dataset, calculate volume, split dataset, perform regression density using surface and mass, calculate MSE'}]\n"
     ]
    }
   ],
   "source": [
    "result6 = extractor(\"Estimate height using volume and mass through regression analysis.\")\n",
    "print(\"ANSWER:\", result6[\"answer\"])\n",
    "print(\"REFERENCE:\", embeddings.search(\"select id, text from txtai where id = :id\", parameters={\"id\": result6[\"reference\"]}))"
   ]
  },
  {
   "cell_type": "code",
   "execution_count": null,
   "metadata": {},
   "outputs": [],
   "source": []
  },
  {
   "cell_type": "code",
   "execution_count": null,
   "metadata": {},
   "outputs": [],
   "source": []
  },
  {
   "cell_type": "code",
   "execution_count": null,
   "metadata": {},
   "outputs": [],
   "source": []
  },
  {
   "cell_type": "code",
   "execution_count": null,
   "metadata": {},
   "outputs": [],
   "source": []
  }
 ],
 "metadata": {
  "kernelspec": {
   "display_name": "Python 3 (ipykernel)",
   "language": "python",
   "name": "python3"
  },
  "language_info": {
   "codemirror_mode": {
    "name": "ipython",
    "version": 3
   },
   "file_extension": ".py",
   "mimetype": "text/x-python",
   "name": "python",
   "nbconvert_exporter": "python",
   "pygments_lexer": "ipython3",
   "version": "3.8.19"
  }
 },
 "nbformat": 4,
 "nbformat_minor": 4
}
